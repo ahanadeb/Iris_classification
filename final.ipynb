{
 "cells": [
  {
   "cell_type": "code",
   "execution_count": 89,
   "metadata": {},
   "outputs": [],
   "source": [
    "import pandas as pd\n",
    "import numpy as np\n",
    "from sklearn.utils import shuffle "
   ]
  },
  {
   "cell_type": "code",
   "execution_count": 90,
   "metadata": {},
   "outputs": [],
   "source": [
    "def giveTheta_grad(T1, T2):\n",
    " \n",
    "    \n",
    "    zz2 = np.matmul(XX, (T1.T))\n",
    "\n",
    "    zz2 = np.array((zz2[:, :]), dtype=np.float)\n",
    "    aa2 = 1./ (1+ np.exp(-zz2))\n",
    "    \n",
    "    aa2_change = np.ones((1,125))\n",
    "    \n",
    "    aa2= np.concatenate((aa2, aa2_change.T), axis=1)\n",
    "    zz3 = np.matmul(aa2,(T2.T))\n",
    "    zz3 = np.array((zz3[:, :]), dtype=np.float)\n",
    "    aa3 = 1./(1 + np.exp(-zz3))\n",
    "    aa3.shape\n",
    "    hhx = aa3\n",
    "    \n",
    "    cost_c = np.sum(np.power(hhx - y,2))/250 #+ lambda1/300 * (np.sum(np.power(Theta1,2))+ np.sum(np.power(Theta2,2))  )\n",
    "    #backprop\n",
    "\n",
    "\n",
    "    dd3 = hhx-y\n",
    "    dd2 = np.multiply(np.matmul((dd3), (T2)), np.multiply(aa2, 1-aa2))\n",
    "    #a1= np.array((a1[:, :]), dtype=np.float)\n",
    "\n",
    "    ddelta_1 = np.matmul((dd2.T),(XX))\n",
    "\n",
    "    ddelta_2 = np.matmul((dd3.T), (aa2))\n",
    "    ddelta_2\n",
    "    ddelta_1 = np.delete(ddelta_1, 1, 0)\n",
    "    T2_grad = ddelta_2/125 #+ lambda1 *Theta2\n",
    "\n",
    "    T1_grad = ddelta_1/125 #+ lambda1 *Theta1\n",
    "    \n",
    "    return T1_grad, T2_grad, cost_c\n"
   ]
  },
  {
   "cell_type": "code",
   "execution_count": 91,
   "metadata": {},
   "outputs": [],
   "source": [
    "#Loading dataset\n",
    "\n",
    "df = pd.read_csv('Iris.csv')\n",
    "df.values\n",
    "df = pd.read_csv('Iris.csv',index_col = 0, skiprows=0 )\n",
    "\n",
    "#chacking number of diff species\n",
    "\n",
    "df['Species'].unique()\n",
    "\n",
    "#creating training and test set d1 and d2\n",
    "\n",
    "d= shuffle(df)\n",
    "d1 = d[0:125]\n",
    "d2 = d[126:150]\n",
    "\n",
    "#producing training set (XX and y)\n",
    "\n",
    "a =d1.as_matrix(columns=None)\n",
    "b = np.asmatrix(a)\n",
    "Y = b[:125, 4]\n",
    "y = np.zeros((125,3))\n",
    "for i in range(0,125):\n",
    "    if(Y[i,0]== 'Iris-setosa' ):\n",
    "        y[i,0]= 1\n",
    "    elif(Y[i,0] == 'Iris-versicolor'):\n",
    "        y[i,1]=1\n",
    "    else:\n",
    "        y[i,2]=1\n",
    "y = np.array((y[:, :]), dtype=np.float)\n",
    "X = b[:125, 0:4]\n",
    "X_change = np.ones((1,125))\n",
    "XX = np.concatenate((X, X_change.T), axis=1)\n",
    "XX[:,[0, 4]] = XX[:,[4, 0]]\n",
    "XX = np.array((XX[:, :]), dtype=np.float)\n",
    "\n",
    "\n",
    "#producing test set (XXnext and Ynext)\n",
    "\n",
    "anext =d1.as_matrix(columns=None)\n",
    "bnext = np.asmatrix(anext)\n",
    "Ynext = bnext[:25, 4]\n",
    "ynext = np.zeros((25,3))\n",
    "for i in range(0,25):\n",
    "    if(Ynext[i,0]== 'Iris-setosa' ):\n",
    "        ynext[i,0]= 1\n",
    "    elif(Ynext[i,0] == 'Iris-versicolor'):\n",
    "        ynext[i,1]=1\n",
    "    else:\n",
    "        ynext[i,2]=1\n",
    "ynext = np.array((ynext[:, :]), dtype=np.float)\n",
    "Xnext = bnext[:25, 0:4]\n",
    "Xnext_change = np.ones((1,25))\n",
    "XXnext = np.concatenate((Xnext, Xnext_change.T), axis=1)\n",
    "XXnext[:,[0, 4]] = XXnext[:,[4, 0]]\n",
    "XXnext = np.array((XXnext[:, :]), dtype=np.float)"
   ]
  },
  {
   "cell_type": "code",
   "execution_count": 92,
   "metadata": {},
   "outputs": [],
   "source": [
    "#initialising all Theta and parameters\n",
    "initial_Theta1 = .0012 * np.random.rand(125, 5)\n",
    "initial_Theta2 = .0012 * np.random.rand(3,126)\n",
    "alpha= 10 #for gradient descent"
   ]
  },
  {
   "cell_type": "code",
   "execution_count": 93,
   "metadata": {},
   "outputs": [
    {
     "data": {
      "text/plain": [
       "0.38020681226370195"
      ]
     },
     "execution_count": 93,
     "metadata": {},
     "output_type": "execute_result"
    }
   ],
   "source": [
    "#forward prop\n",
    "z2 = np.matmul(XX, (initial_Theta1.T))\n",
    "z2 = np.array((z2[:, :]), dtype=np.float)\n",
    "a2 = 1./ (1+ np.exp(-z2))\n",
    "a2_change = np.ones((1,125))\n",
    "a2_change\n",
    "a2= np.concatenate((a2, a2_change.T), axis=1)\n",
    "z3 = np.matmul(a2,(initial_Theta2.T))\n",
    "a3 = 1./(1 + np.exp(-z3))\n",
    "hx = a3\n",
    "cost_func = np.sum(np.power(hx - y,2))/250\n",
    "cost_func"
   ]
  },
  {
   "cell_type": "code",
   "execution_count": 94,
   "metadata": {},
   "outputs": [],
   "source": [
    "#back propagation\n",
    "d3 = hx-y\n",
    "d2 = np.multiply(np.matmul((d3), (initial_Theta2)), np.multiply(a2, 1-a2))\n",
    "\n",
    "a1= np.array((XX[:, :]), dtype=np.float)\n",
    "\n",
    "delta_1 = np.matmul((d2.T),(XX))\n",
    "\n",
    "delta_2 = np.matmul((d3.T), (a2))\n",
    "delta_2\n",
    "delta_1 = np.delete(delta_1, 1, 0)\n",
    "Theta2_grad = delta_2/125 # + lambda1 *Theta2\n",
    "\n",
    "Theta1_grad = delta_1/125 # + lambda1 *Theta1"
   ]
  },
  {
   "cell_type": "code",
   "execution_count": 95,
   "metadata": {},
   "outputs": [
    {
     "data": {
      "text/plain": [
       "0.14682268519940464"
      ]
     },
     "execution_count": 95,
     "metadata": {},
     "output_type": "execute_result"
    }
   ],
   "source": [
    "#gradient descent\n",
    "\n",
    "Theta1=  initial_Theta1\n",
    "Theta2= initial_Theta2\n",
    "for iteration in range (0,1000):\n",
    "    #print(cost_func)\n",
    "    \n",
    "    Theta1 = Theta1 - (Theta1_grad)*alpha/125\n",
    "    Theta2 = Theta2 - (Theta2_grad)*alpha/125\n",
    "    Theta1_grad, Theta2_grad, c= giveTheta_grad(Theta1, Theta2)\n",
    "    cc = c\n",
    "    \n",
    "\n",
    "\n",
    "cc"
   ]
  },
  {
   "cell_type": "code",
   "execution_count": 96,
   "metadata": {},
   "outputs": [
    {
     "data": {
      "text/plain": [
       "88.0"
      ]
     },
     "execution_count": 96,
     "metadata": {},
     "output_type": "execute_result"
    }
   ],
   "source": [
    "#prediciting function\n",
    "\n",
    "def predict(DATA, y):\n",
    "    \n",
    "    Z2 = np.matmul(DATA, (Theta1.T))\n",
    "\n",
    "    Z2 = np.array((Z2[:, :]), dtype=np.float)\n",
    "    A2 = 1./ (1+ np.exp(-Z2))\n",
    "    \n",
    "    A2_change = np.ones((1,len(DATA)))\n",
    "    \n",
    "    A2= np.concatenate((A2, A2_change.T), axis=1)\n",
    "    Z3 = np.matmul(A2,(Theta2.T))\n",
    "    Z3 = np.array((Z3[:, :]), dtype=np.float)\n",
    "    A3 = 1./(1 + np.exp(-Z3))\n",
    "    hx = A3\n",
    "    pred = np.ones((len(DATA),3))\n",
    "    pred = pred*3\n",
    "    for i in range(0,len(DATA)):\n",
    "        pred[i,np.argmax(hx[i])] = 1\n",
    "    #for i in range(0,150):     \n",
    "      #  mn =np.mean((p[i]==y[i])*100)\n",
    "    mn=0\n",
    "    for i in range(0,len(DATA)):\n",
    "        for j in range(0,3):\n",
    "            if(pred[i,j]== y[i,j]):\n",
    "                mn +=1\n",
    "    \n",
    "    return mn *100 /len(DATA)\n",
    "\n",
    "predict( XX, y)"
   ]
  },
  {
   "cell_type": "code",
   "execution_count": 97,
   "metadata": {},
   "outputs": [
    {
     "data": {
      "text/plain": [
       "96.0"
      ]
     },
     "execution_count": 97,
     "metadata": {},
     "output_type": "execute_result"
    }
   ],
   "source": [
    "predict(XXnext, ynext)"
   ]
  },
  {
   "cell_type": "code",
   "execution_count": 70,
   "metadata": {},
   "outputs": [
    {
     "data": {
      "text/html": [
       "<div>\n",
       "<style>\n",
       "    .dataframe thead tr:only-child th {\n",
       "        text-align: right;\n",
       "    }\n",
       "\n",
       "    .dataframe thead th {\n",
       "        text-align: left;\n",
       "    }\n",
       "\n",
       "    .dataframe tbody tr th {\n",
       "        vertical-align: top;\n",
       "    }\n",
       "</style>\n",
       "<table border=\"1\" class=\"dataframe\">\n",
       "  <thead>\n",
       "    <tr style=\"text-align: right;\">\n",
       "      <th></th>\n",
       "      <th>Id</th>\n",
       "      <th>SepalLengthCm</th>\n",
       "      <th>SepalWidthCm</th>\n",
       "      <th>PetalLengthCm</th>\n",
       "      <th>PetalWidthCm</th>\n",
       "      <th>Species</th>\n",
       "    </tr>\n",
       "  </thead>\n",
       "  <tbody>\n",
       "    <tr>\n",
       "      <th>0</th>\n",
       "      <td>1</td>\n",
       "      <td>5.1</td>\n",
       "      <td>3.5</td>\n",
       "      <td>1.4</td>\n",
       "      <td>0.2</td>\n",
       "      <td>Iris-setosa</td>\n",
       "    </tr>\n",
       "    <tr>\n",
       "      <th>1</th>\n",
       "      <td>2</td>\n",
       "      <td>4.9</td>\n",
       "      <td>3.0</td>\n",
       "      <td>1.4</td>\n",
       "      <td>0.2</td>\n",
       "      <td>Iris-setosa</td>\n",
       "    </tr>\n",
       "    <tr>\n",
       "      <th>2</th>\n",
       "      <td>3</td>\n",
       "      <td>4.7</td>\n",
       "      <td>3.2</td>\n",
       "      <td>1.3</td>\n",
       "      <td>0.2</td>\n",
       "      <td>Iris-setosa</td>\n",
       "    </tr>\n",
       "  </tbody>\n",
       "</table>\n",
       "</div>"
      ],
      "text/plain": [
       "   Id  SepalLengthCm  SepalWidthCm  PetalLengthCm  PetalWidthCm      Species\n",
       "0   1            5.1           3.5            1.4           0.2  Iris-setosa\n",
       "1   2            4.9           3.0            1.4           0.2  Iris-setosa\n",
       "2   3            4.7           3.2            1.3           0.2  Iris-setosa"
      ]
     },
     "execution_count": 70,
     "metadata": {},
     "output_type": "execute_result"
    }
   ],
   "source": [
    "iris = pd.read_csv('Iris.csv')\n",
    "iris.head(3)"
   ]
  },
  {
   "cell_type": "code",
   "execution_count": 71,
   "metadata": {},
   "outputs": [],
   "source": [
    "target_map = {'Iris-setosa':0, 'Iris-versicolor':1,'Iris-virginica':2 }\n",
    "# Use the pandas apply method to numerically encode our attrition target variable\n",
    "iris['Species'] = iris['Species'].apply(lambda x: target_map[x])"
   ]
  },
  {
   "cell_type": "code",
   "execution_count": 80,
   "metadata": {},
   "outputs": [
    {
     "name": "stdout",
     "output_type": "stream",
     "text": [
      "2.3.0\n"
     ]
    }
   ],
   "source": [
    "from plotly import __version__\n",
    "from plotly.offline import download_plotlyjs, init_notebook_mode, plot, iplot\n",
    "\n",
    "print (__version__)"
   ]
  },
  {
   "cell_type": "code",
   "execution_count": 81,
   "metadata": {},
   "outputs": [
    {
     "data": {
      "text/html": [
       "<script>requirejs.config({paths: { 'plotly': ['https://cdn.plot.ly/plotly-latest.min']},});if(!window.Plotly) {{require(['plotly'],function(plotly) {window.Plotly=plotly;});}}</script>"
      ],
      "text/vnd.plotly.v1+html": [
       "<script>requirejs.config({paths: { 'plotly': ['https://cdn.plot.ly/plotly-latest.min']},});if(!window.Plotly) {{require(['plotly'],function(plotly) {window.Plotly=plotly;});}}</script>"
      ]
     },
     "metadata": {},
     "output_type": "display_data"
    },
    {
     "name": "stderr",
     "output_type": "stream",
     "text": [
      "/anaconda3/lib/python3.6/site-packages/sklearn/cross_validation.py:41: DeprecationWarning:\n",
      "\n",
      "This module was deprecated in version 0.18 in favor of the model_selection module into which all the refactored classes and functions are moved. Also note that the interface of the new CV iterators are different from that of this module. This module will be removed in 0.20.\n",
      "\n"
     ]
    }
   ],
   "source": [
    "import pandas as pd\n",
    "import numpy as np\n",
    "import matplotlib.pyplot as plt\n",
    "from matplotlib.colors import ListedColormap\n",
    "import seaborn as sns\n",
    "\n",
    "%matplotlib inline\n",
    "\n",
    "# Import statements required for Plotly \n",
    "import plotly.offline as py\n",
    "py.init_notebook_mode(connected=True)\n",
    "import plotly.graph_objs as go\n",
    "from plotly import tools\n",
    "\n",
    "from sklearn.preprocessing import StandardScaler\n",
    "from sklearn.svm import SVC\n",
    "from sklearn.cross_validation import train_test_split\n",
    "from sklearn.preprocessing import StandardScaler\n",
    "from sklearn.datasets import make_moons, make_circles, make_classification, make_blobs, make_checkerboard\n",
    "from sklearn.neighbors import KNeighborsClassifier\n",
    "from sklearn.cluster import KMeans\n",
    "from sklearn.svm import SVC\n",
    "from sklearn.tree import DecisionTreeClassifier\n",
    "from sklearn.ensemble import RandomForestClassifier, AdaBoostClassifier, ExtraTreesClassifier, GradientBoostingClassifier, BaggingClassifier\n",
    "from sklearn.naive_bayes import GaussianNB\n",
    "from sklearn.linear_model import LogisticRegression"
   ]
  },
  {
   "cell_type": "code",
   "execution_count": null,
   "metadata": {},
   "outputs": [],
   "source": []
  },
  {
   "cell_type": "code",
   "execution_count": null,
   "metadata": {},
   "outputs": [],
   "source": []
  }
 ],
 "metadata": {
  "kernelspec": {
   "display_name": "Python 3",
   "language": "python",
   "name": "python3"
  },
  "language_info": {
   "codemirror_mode": {
    "name": "ipython",
    "version": 3
   },
   "file_extension": ".py",
   "mimetype": "text/x-python",
   "name": "python",
   "nbconvert_exporter": "python",
   "pygments_lexer": "ipython3",
   "version": "3.6.3"
  }
 },
 "nbformat": 4,
 "nbformat_minor": 2
}
