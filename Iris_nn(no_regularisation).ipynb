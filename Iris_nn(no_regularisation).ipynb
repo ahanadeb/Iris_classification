{
 "cells": [
  {
   "cell_type": "code",
   "execution_count": 47,
   "metadata": {},
   "outputs": [],
   "source": [
    "# Package imports\n",
    "import numpy as np\n",
    "import matplotlib.pyplot as plt\n",
    "\n",
    "import sklearn\n",
    "import sklearn.datasets\n",
    "import sklearn.linear_model\n",
    "\n",
    "\n",
    "%matplotlib inline\n",
    "\n",
    "np.random.seed(1) # set a seed so that the results are consistent\n",
    "\n",
    "import pandas as pd\n",
    "from sklearn.utils import shuffle"
   ]
  },
  {
   "cell_type": "code",
   "execution_count": 63,
   "metadata": {},
   "outputs": [],
   "source": [
    "#reading data\n",
    "df = pd.read_csv('Iris.csv',index_col = 0, skiprows=0 )\n",
    "#producing training set (XX and y)\n",
    "d= shuffle(df)\n",
    "d1 = d[0:125]\n",
    "d2 = d[126:150]\n",
    "a =d1.as_matrix(columns=None)\n",
    "b = np.asmatrix(d1.as_matrix(columns=None))\n",
    "Y = b[:125, 4]\n",
    "y = np.zeros((3,125))\n",
    "for i in range(0,125):\n",
    "    if(Y[i,0]== 'Iris-setosa' ):\n",
    "        y[0,i]= 1\n",
    "    elif(Y[i,0] == 'Iris-versicolor'):\n",
    "        y[1,i]=1\n",
    "    else:\n",
    "        y[2,i]=1\n",
    "y = np.array((y[:, :]), dtype=np.float)\n",
    "Xl = b[:125, 0:4]\n",
    "XX = np.array((Xl[:, :]), dtype=np.float)\n",
    "XX =XX.T\n",
    "\n",
    "\n",
    "#producing test set (XXnext and Ynext)\n",
    "\n",
    "anext =d1.as_matrix(columns=None)\n",
    "bnext = np.asmatrix(anext)\n",
    "Ynext = bnext[:25, 4]\n",
    "ynext = np.zeros((3,25))\n",
    "for i in range(0,25):\n",
    "    if(Ynext[i,0]== 'Iris-setosa' ):\n",
    "        ynext[0,i]= 1\n",
    "    elif(Ynext[i,0] == 'Iris-versicolor'):\n",
    "        ynext[1,i]=1\n",
    "    else:\n",
    "        ynext[2,i]=1\n",
    "ynext = np.array((ynext[:, :]), dtype=np.float)\n",
    "Xnext = bnext[:25, 0:4]\n",
    "XXnext = np.array((Xnext[:, :]), dtype=np.float)\n",
    "XXnext = XXnext.T"
   ]
  },
  {
   "cell_type": "code",
   "execution_count": 159,
   "metadata": {},
   "outputs": [],
   "source": [
    "def layer_sizes(X, Y):\n",
    "    \n",
    "    n_x = X.shape[0]\n",
    "    n_h = 4\n",
    "    n_y = Y.shape[0] # size of output layer\n",
    "    return (n_x, n_h, n_y)"
   ]
  },
  {
   "cell_type": "code",
   "execution_count": 160,
   "metadata": {},
   "outputs": [],
   "source": [
    "def sigmoid(z):\n",
    "    s = 1/(1+ np.exp(-z))\n",
    "    return s"
   ]
  },
  {
   "cell_type": "code",
   "execution_count": 161,
   "metadata": {},
   "outputs": [],
   "source": [
    "def initialize_parameters(n_x, n_h, n_y):\n",
    "   \n",
    "    np.random.seed(2) \n",
    " \n",
    "    W1 = np.random.randn(n_h, n_x) * 0.001\n",
    "    b1 = np.zeros((n_h, 1))\n",
    "    W2 = np.random.randn(n_y, n_h) * 0.001\n",
    "    b2 = np.zeros((n_y, 1))\n",
    "\n",
    "    \n",
    "    assert (W1.shape == (n_h, n_x))\n",
    "    assert (b1.shape == (n_h, 1))\n",
    "    assert (W2.shape == (n_y, n_h))\n",
    "    assert (b2.shape == (n_y, 1))\n",
    "    \n",
    "    parameters = {\"W1\": W1,\n",
    "                  \"b1\": b1,\n",
    "                  \"W2\": W2,\n",
    "                  \"b2\": b2}\n",
    "    \n",
    "    return parameters"
   ]
  },
  {
   "cell_type": "code",
   "execution_count": 162,
   "metadata": {},
   "outputs": [],
   "source": [
    "def forward_propagation(X, parameters):\n",
    "  \n",
    "    # Retrieve each parameter from the dictionary \"parameters\"\n",
    "    \n",
    "    W1 = parameters[\"W1\"]\n",
    "    b1 = parameters[\"b1\"]\n",
    "    W2 = parameters[\"W2\"]\n",
    "    b2 = parameters[\"b2\"]\n",
    "    \n",
    "    \n",
    "    # Implement Forward Propagation to calculate A2 (probabilities)\n",
    "    \n",
    "    Z1 = np.dot(W1, X) + b1\n",
    "    A1 = sigmoid(Z1)\n",
    "    Z2 = np.dot(W2, A1) + b2\n",
    "    A2 = sigmoid(Z2)\n",
    "    \n",
    "    \n",
    "    assert(A2.shape == (3, X.shape[1]))\n",
    "    \n",
    "    cache = {\"Z1\": Z1,\n",
    "             \"A1\": A1,\n",
    "             \"Z2\": Z2,\n",
    "             \"A2\": A2}\n",
    "    \n",
    "    return A2, cache"
   ]
  },
  {
   "cell_type": "code",
   "execution_count": 163,
   "metadata": {},
   "outputs": [],
   "source": [
    "def compute_cost(A2, Y, parameters):\n",
    "\n",
    "    m = Y.shape[1] # number of example\n",
    "\n",
    "    # Compute the cross-entropy cost\n",
    "    ### START CODE HERE ### (≈ 2 lines of code)\n",
    "    logprobs =np.multiply(np.log(A2),Y) + np.multiply(np.log(1-A2),1-Y)\n",
    "    cost = - np.sum(logprobs)/m\n",
    "    ### END CODE HERE ###\n",
    "    \n",
    "    cost = np.squeeze(cost)     # makes sure cost is the dimension we expect. \n",
    "                                # E.g., turns [[17]] into 17 \n",
    "    assert(isinstance(cost, float))\n",
    "    \n",
    "    return cost\n"
   ]
  },
  {
   "cell_type": "code",
   "execution_count": 164,
   "metadata": {},
   "outputs": [],
   "source": [
    "def backward_propagation(parameters, cache, X, Y):\n",
    "    \n",
    "    m = X.shape[1]\n",
    "    \n",
    "    # First, retrieve W1 and W2 from the dictionary \"parameters\".\n",
    "    \n",
    "    W1 = parameters[\"W1\"]\n",
    "    W2 = parameters[\"W2\"]\n",
    "    \n",
    "        \n",
    "    # Retrieve also A1 and A2 from dictionary \"cache\".\n",
    "    \n",
    "    A1 = cache[\"A1\"]\n",
    "    A2 = cache[\"A2\"]\n",
    "    \n",
    "    \n",
    "    # Backward propagation: calculate dW1, db1, dW2, db2. \n",
    "    \n",
    "    dZ2 = A2 - Y\n",
    "    dW2 =np.dot(dZ2,A1.T) / m\n",
    "    db2 = np.sum(dZ2, axis =1, keepdims = True) / m\n",
    "    dZ1 = np.dot(W2.T, dZ2) * (1- A1**2)\n",
    "    dW1 = np.dot(dZ1,X.T) / m\n",
    "    db1 = np.sum(dZ1, axis =1, keepdims = True) / m\n",
    "    \n",
    "    \n",
    "    grads = {\"dW1\": dW1,\n",
    "             \"db1\": db1,\n",
    "             \"dW2\": dW2,\n",
    "             \"db2\": db2}\n",
    "    \n",
    "    return grads"
   ]
  },
  {
   "cell_type": "code",
   "execution_count": 165,
   "metadata": {},
   "outputs": [],
   "source": [
    "def update_parameters(parameters, grads, learning_rate = 10):\n",
    "   \n",
    "    # Retrieve each parameter from the dictionary \"parameters\"\n",
    "    \n",
    "    W1 = parameters[\"W1\"]\n",
    "    b1 = parameters[\"b1\"]\n",
    "    W2 = parameters[\"W2\"]\n",
    "    b2 = parameters[\"b2\"]\n",
    "    \n",
    "    \n",
    "    # Retrieve each gradient from the dictionary \"grads\"\n",
    "    \n",
    "    dW1 = grads[\"dW1\"]\n",
    "    db1 = grads[\"db1\"]\n",
    "    dW2 = grads[\"dW2\"]\n",
    "    db2 = grads[\"db2\"]\n",
    "    \n",
    "    \n",
    "    # Update rule for each parameter\n",
    "    \n",
    "    W1 = W1 - learning_rate* dW1\n",
    "    b1 = b1 - learning_rate *db1\n",
    "    W2 = W2 - learning_rate * dW2\n",
    "    b2 = b2 - learning_rate * db2\n",
    "    \n",
    "    \n",
    "    parameters = {\"W1\": W1,\n",
    "                  \"b1\": b1,\n",
    "                  \"W2\": W2,\n",
    "                  \"b2\": b2}\n",
    "    \n",
    "    return parameters"
   ]
  },
  {
   "cell_type": "code",
   "execution_count": 246,
   "metadata": {},
   "outputs": [],
   "source": [
    "def nn_model(X, Y, n_h, num_iterations = 10000, print_cost=False):\n",
    "    \n",
    "    \n",
    "    np.random.seed(3)\n",
    "    n_x = layer_sizes(X, Y)[0]\n",
    "    n_y = layer_sizes(X, Y)[2]\n",
    "    \n",
    "    # Initialize parameters, then retrieve W1, b1, W2, b2. Inputs: \"n_x, n_h, n_y\". Outputs = \"W1, b1, W2, b2, parameters\".\n",
    "    \n",
    "    parameters = initialize_parameters(n_x, n_h, n_y)\n",
    "    W1 = parameters[\"W1\"]\n",
    "    b1 = parameters[\"b1\"]\n",
    "    W2 = parameters[\"W2\"]\n",
    "    b2 = parameters[\"b2\"]\n",
    "    \n",
    "    \n",
    "    # Loop (gradient descent)\n",
    "\n",
    "    for i in range(0, num_iterations):\n",
    "         \n",
    "       \n",
    "        # Forward propagation. Inputs: \"X, parameters\". Outputs: \"A2, cache\".\n",
    "        A2, cache =forward_propagation(X, parameters)\n",
    "        \n",
    "        # Cost function. Inputs: \"A2, Y, parameters\". Outputs: \"cost\".\n",
    "        cost = compute_cost(A2, Y, parameters)\n",
    " \n",
    "        # Backpropagation. Inputs: \"parameters, cache, X, Y\". Outputs: \"grads\".\n",
    "        grads = backward_propagation(parameters, cache, X, Y)\n",
    " \n",
    "        # Gradient descent parameter update. Inputs: \"parameters, grads\". Outputs: \"parameters\".\n",
    "        parameters = update_parameters(parameters, grads, learning_rate = 1.2)\n",
    "        \n",
    "        \n",
    "        \n",
    "        # Print the cost every 1000 iterations\n",
    "        if print_cost and i % 1000 == 0:\n",
    "            print (\"Cost after iteration %i: %f\" %(i, cost))\n",
    "\n",
    "    return parameters"
   ]
  },
  {
   "cell_type": "code",
   "execution_count": null,
   "metadata": {},
   "outputs": [],
   "source": []
  },
  {
   "cell_type": "code",
   "execution_count": 250,
   "metadata": {},
   "outputs": [
    {
     "name": "stdout",
     "output_type": "stream",
     "text": [
      "Cost after iteration 0: 2.079130\n",
      "Cost after iteration 1000: 0.287638\n"
     ]
    },
    {
     "name": "stderr",
     "output_type": "stream",
     "text": [
      "/anaconda3/lib/python3.6/site-packages/ipykernel_launcher.py:2: RuntimeWarning: overflow encountered in exp\n",
      "  \n"
     ]
    },
    {
     "name": "stdout",
     "output_type": "stream",
     "text": [
      "Cost after iteration 2000: 0.223090\n",
      "Cost after iteration 3000: 0.416746\n",
      "Cost after iteration 4000: 0.128674\n",
      "Cost after iteration 5000: 0.141651\n",
      "Cost after iteration 6000: 0.135718\n",
      "Cost after iteration 7000: 0.101437\n",
      "Cost after iteration 8000: 0.107329\n",
      "Cost after iteration 9000: 0.086761\n"
     ]
    },
    {
     "data": {
      "text/plain": [
       "{'W1': array([[ -142.15434502,  -254.05665551,   264.93630071,   274.42986111],\n",
       "        [ -597.63568273, -1824.36206713,  2153.45571317,  1217.77548375],\n",
       "        [  -46.8671218 ,    73.47617611,    29.56416539,    15.95125038],\n",
       "        [   -3.29832362,    -5.07546896,    59.94823751,    46.64223691]]),\n",
       " 'W2': array([[ -5.52387121, -14.88636589,   1.30778426,  -1.38153099],\n",
       "        [-11.19893891,  14.77651157,  -6.44622411,  -1.71601191],\n",
       "        [ 11.17713095,   1.96237736,   6.32616623,   0.37998832]]),\n",
       " 'b1': array([[-148.43663819],\n",
       "        [-188.49534911],\n",
       "        [ -61.08838238],\n",
       "        [ -35.58353135]]),\n",
       " 'b2': array([[  6.04079402],\n",
       "        [ -2.62148095],\n",
       "        [-12.75340186]])}"
      ]
     },
     "execution_count": 250,
     "metadata": {},
     "output_type": "execute_result"
    }
   ],
   "source": [
    "nn_model(XX, y, 4, num_iterations = 10000, print_cost=True)"
   ]
  },
  {
   "cell_type": "code",
   "execution_count": 262,
   "metadata": {},
   "outputs": [],
   "source": [
    "def predict(parameters, X):\n",
    "    A2, cache = forward_propagation(X, parameters)\n",
    "    pred = np.ones((3, X.shape[1]))\n",
    "    pred = pred*3\n",
    "    for i in range(0,X.shape[1]):\n",
    "        pred[np.argmax(A2[:,i]), i] = 1\n",
    "    #for i in range(0,150):     \n",
    "      #  mn =np.mean((p[i]==y[i])*100)\n",
    "    mn=0\n",
    "    for i in range(0,3):\n",
    "        for j in range(0,X.shape[1]):\n",
    "            if(pred[i,j]== y[i,j]):\n",
    "                mn +=1\n",
    "    \n",
    "    return mn *100 /X.shape[1]\n",
    "    \n",
    "    "
   ]
  },
  {
   "cell_type": "code",
   "execution_count": 263,
   "metadata": {},
   "outputs": [
    {
     "name": "stdout",
     "output_type": "stream",
     "text": [
      "Cost after iteration 0: 2.079130\n",
      "Cost after iteration 1000: 0.287638\n"
     ]
    },
    {
     "name": "stderr",
     "output_type": "stream",
     "text": [
      "/anaconda3/lib/python3.6/site-packages/ipykernel_launcher.py:2: RuntimeWarning: overflow encountered in exp\n",
      "  \n"
     ]
    },
    {
     "name": "stdout",
     "output_type": "stream",
     "text": [
      "Cost after iteration 2000: 0.223090\n",
      "Cost after iteration 3000: 0.416746\n",
      "Cost after iteration 4000: 0.128674\n",
      "Cost after iteration 5000: 0.141651\n",
      "Cost after iteration 6000: 0.135718\n",
      "Cost after iteration 7000: 0.101437\n",
      "Cost after iteration 8000: 0.107329\n",
      "Cost after iteration 9000: 0.086761\n"
     ]
    },
    {
     "data": {
      "text/plain": [
       "99.2"
      ]
     },
     "execution_count": 263,
     "metadata": {},
     "output_type": "execute_result"
    }
   ],
   "source": [
    "parameters = nn_model(XX, y, n_h = 4, num_iterations = 10000, print_cost=True)\n",
    "t = predict(parameters, XX)\n",
    "t"
   ]
  },
  {
   "cell_type": "code",
   "execution_count": 264,
   "metadata": {},
   "outputs": [
    {
     "name": "stdout",
     "output_type": "stream",
     "text": [
      "Cost after iteration 0: 2.079130\n",
      "Cost after iteration 1000: 0.287638\n"
     ]
    },
    {
     "name": "stderr",
     "output_type": "stream",
     "text": [
      "/anaconda3/lib/python3.6/site-packages/ipykernel_launcher.py:2: RuntimeWarning: overflow encountered in exp\n",
      "  \n"
     ]
    },
    {
     "name": "stdout",
     "output_type": "stream",
     "text": [
      "Cost after iteration 2000: 0.223090\n",
      "Cost after iteration 3000: 0.416746\n",
      "Cost after iteration 4000: 0.128674\n",
      "Cost after iteration 5000: 0.141651\n",
      "Cost after iteration 6000: 0.135718\n",
      "Cost after iteration 7000: 0.101437\n",
      "Cost after iteration 8000: 0.107329\n",
      "Cost after iteration 9000: 0.086761\n"
     ]
    },
    {
     "data": {
      "text/plain": [
       "100.0"
      ]
     },
     "execution_count": 264,
     "metadata": {},
     "output_type": "execute_result"
    }
   ],
   "source": [
    "parameters = nn_model(XX, y, n_h = 4, num_iterations = 10000, print_cost=True)\n",
    "t = predict(parameters, XXnext)\n",
    "t"
   ]
  },
  {
   "cell_type": "code",
   "execution_count": 265,
   "metadata": {},
   "outputs": [
    {
     "name": "stderr",
     "output_type": "stream",
     "text": [
      "/anaconda3/lib/python3.6/site-packages/ipykernel_launcher.py:2: RuntimeWarning: overflow encountered in exp\n",
      "  \n"
     ]
    },
    {
     "name": "stdout",
     "output_type": "stream",
     "text": [
      "68.8\n",
      "74.4\n",
      "99.2\n",
      "96.8\n",
      "98.4\n",
      "34.4\n",
      "34.4\n"
     ]
    }
   ],
   "source": [
    "hidden_layer_sizes = [1, 2, 3, 4, 5, 20, 50]\n",
    "for i, n_h in enumerate(hidden_layer_sizes):\n",
    "    parameters = nn_model(XX, y, n_h, num_iterations = 5000)\n",
    "    predictions = predict(parameters, XX)\n",
    "    print(predictions)"
   ]
  },
  {
   "cell_type": "code",
   "execution_count": null,
   "metadata": {},
   "outputs": [],
   "source": []
  }
 ],
 "metadata": {
  "kernelspec": {
   "display_name": "Python 3",
   "language": "python",
   "name": "python3"
  },
  "language_info": {
   "codemirror_mode": {
    "name": "ipython",
    "version": 3
   },
   "file_extension": ".py",
   "mimetype": "text/x-python",
   "name": "python",
   "nbconvert_exporter": "python",
   "pygments_lexer": "ipython3",
   "version": "3.6.3"
  }
 },
 "nbformat": 4,
 "nbformat_minor": 2
}
